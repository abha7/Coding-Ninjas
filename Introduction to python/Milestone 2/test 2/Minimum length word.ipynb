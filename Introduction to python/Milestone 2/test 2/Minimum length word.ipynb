{
 "cells": [
  {
   "cell_type": "code",
   "execution_count": null,
   "id": "d6c66497",
   "metadata": {},
   "outputs": [],
   "source": [
    "Given a string S (that can contain multiple words), you need to find the word which has minimum length.\n",
    "Note : If multiple words are of same length, then answer will be first minimum length word in the string.\n",
    "Words are seperated by single space only.\n",
    "Input Format :\n",
    "String S\n",
    "Output Format :\n",
    "Minimum length word\n",
    "Constraints :\n",
    "1 <= Length of String S <= 10^5\n",
    "Sample Input 1 :\n",
    "this is test string\n",
    "Sample Output 1 :\n",
    "is\n",
    "Sample Input 2 :\n",
    "abc de ghihjk a uvw h j\n",
    "Sample Output 2 :\n",
    "a"
   ]
  },
  {
   "cell_type": "code",
   "execution_count": 1,
   "id": "f002b06f",
   "metadata": {},
   "outputs": [
    {
     "name": "stdout",
     "output_type": "stream",
     "text": [
      "this is test string\n",
      "is\n"
     ]
    }
   ],
   "source": [
    "s=input().split()\n",
    "l=[]\n",
    "for i in s:\n",
    "    l.append(len(i))\n",
    "print(s[l.index(min(l))])"
   ]
  },
  {
   "cell_type": "code",
   "execution_count": null,
   "id": "1bfed52c",
   "metadata": {},
   "outputs": [],
   "source": []
  }
 ],
 "metadata": {
  "kernelspec": {
   "display_name": "Python 3 (ipykernel)",
   "language": "python",
   "name": "python3"
  },
  "language_info": {
   "codemirror_mode": {
    "name": "ipython",
    "version": 3
   },
   "file_extension": ".py",
   "mimetype": "text/x-python",
   "name": "python",
   "nbconvert_exporter": "python",
   "pygments_lexer": "ipython3",
   "version": "3.9.12"
  }
 },
 "nbformat": 4,
 "nbformat_minor": 5
}
