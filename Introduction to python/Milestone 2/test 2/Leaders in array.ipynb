{
 "cells": [
  {
   "cell_type": "code",
   "execution_count": null,
   "id": "0c14ab77",
   "metadata": {},
   "outputs": [],
   "source": [
    "Leaders in array\n",
    "Send Feedback\n",
    "Given an integer array A of size n. Find and print all the leaders present in the input array. An array element A[i] is called Leader, if all the elements following it (i.e. present at its right) are less than or equal to A[i].\n",
    "Print all the leader elements separated by space and in the same order they are present in the input array.\n",
    "Input Format :\n",
    "Line 1 : Integer n, size of array\n",
    "Line 2 : Array A elements (separated by space)\n",
    "Output Format :\n",
    " leaders of array (separated by space)\n",
    "Constraints :\n",
    "1 <= n <= 10^6\n",
    "Sample Input 1 :\n",
    "6\n",
    "3 12 34 2 0 -1\n",
    "Sample Output 1 :\n",
    "34 2 0 -1\n",
    "Sample Input 2 :\n",
    "5\n",
    "13 17 5 4 6\n",
    "Sample Output 2 :\n",
    "17 6"
   ]
  },
  {
   "cell_type": "code",
   "execution_count": 1,
   "id": "5f8f69ee",
   "metadata": {},
   "outputs": [
    {
     "name": "stdout",
     "output_type": "stream",
     "text": [
      "6\n",
      "3 12 34 2 0 -1\n",
      "34 2 0 -1\n"
     ]
    }
   ],
   "source": [
    "n=int(input())\n",
    "l=list(map(int,input().split()))\n",
    "ma=l[-1]\n",
    "l=l[::-1]\n",
    "k=[l[0]]\n",
    "for i in range(1,n):\n",
    "    if l[i]>=ma:\n",
    "        ma=l[i]\n",
    "        k.append(l[i])\n",
    "k=k[::-1]\n",
    "print(*k)"
   ]
  },
  {
   "cell_type": "code",
   "execution_count": null,
   "id": "ef2e4607",
   "metadata": {},
   "outputs": [],
   "source": []
  }
 ],
 "metadata": {
  "kernelspec": {
   "display_name": "Python 3 (ipykernel)",
   "language": "python",
   "name": "python3"
  },
  "language_info": {
   "codemirror_mode": {
    "name": "ipython",
    "version": 3
   },
   "file_extension": ".py",
   "mimetype": "text/x-python",
   "name": "python",
   "nbconvert_exporter": "python",
   "pygments_lexer": "ipython3",
   "version": "3.9.12"
  }
 },
 "nbformat": 4,
 "nbformat_minor": 5
}
