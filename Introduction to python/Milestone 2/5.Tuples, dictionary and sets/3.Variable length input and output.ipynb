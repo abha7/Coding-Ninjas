{
 "cells": [
  {
   "cell_type": "code",
   "execution_count": 2,
   "id": "d25af131",
   "metadata": {},
   "outputs": [],
   "source": [
    "def sum(a,b):\n",
    "    return a+b"
   ]
  },
  {
   "cell_type": "code",
   "execution_count": 3,
   "id": "17d2a168",
   "metadata": {},
   "outputs": [
    {
     "data": {
      "text/plain": [
       "3"
      ]
     },
     "execution_count": 3,
     "metadata": {},
     "output_type": "execute_result"
    }
   ],
   "source": [
    "sum(1,2)"
   ]
  },
  {
   "cell_type": "code",
   "execution_count": 4,
   "id": "33190607",
   "metadata": {},
   "outputs": [
    {
     "data": {
      "text/plain": [
       "15"
      ]
     },
     "execution_count": 4,
     "metadata": {},
     "output_type": "execute_result"
    }
   ],
   "source": [
    "def sum(a,b,c=0,d=0,e=0):\n",
    "    return a+b+c+d+e\n",
    "\n",
    "sum(1,2,3,4,5)\n"
   ]
  },
  {
   "cell_type": "code",
   "execution_count": 8,
   "id": "e393c93f",
   "metadata": {},
   "outputs": [],
   "source": [
    "def sum2(a,b,*more):\n",
    "    print(a)\n",
    "    print(b)\n",
    "    print(type(more))\n",
    "    print(more)"
   ]
  },
  {
   "cell_type": "code",
   "execution_count": 9,
   "id": "7541dc30",
   "metadata": {},
   "outputs": [
    {
     "name": "stdout",
     "output_type": "stream",
     "text": [
      "2\n",
      "3\n",
      "<class 'tuple'>\n",
      "(4, 5)\n"
     ]
    }
   ],
   "source": [
    "sum2(2,3,4,5)"
   ]
  },
  {
   "cell_type": "code",
   "execution_count": 14,
   "id": "0750cddf",
   "metadata": {},
   "outputs": [
    {
     "data": {
      "text/plain": [
       "14"
      ]
     },
     "execution_count": 14,
     "metadata": {},
     "output_type": "execute_result"
    }
   ],
   "source": [
    "def sum2(a,b,*more):\n",
    "    ans=a+b\n",
    "    for i in more:\n",
    "        ans=ans+i\n",
    "    return ans\n",
    "\n",
    "sum2(2,3,4,5)\n"
   ]
  },
  {
   "cell_type": "code",
   "execution_count": 16,
   "id": "78e2de18",
   "metadata": {},
   "outputs": [],
   "source": [
    "def sum_diff(a,b):\n",
    "    return a+b,a-b,a*b"
   ]
  },
  {
   "cell_type": "code",
   "execution_count": 17,
   "id": "74f5e14e",
   "metadata": {},
   "outputs": [
    {
     "data": {
      "text/plain": [
       "(5, 3, 4)"
      ]
     },
     "execution_count": 17,
     "metadata": {},
     "output_type": "execute_result"
    }
   ],
   "source": [
    "c=sum_diff(4,1)\n",
    "c\n"
   ]
  },
  {
   "cell_type": "code",
   "execution_count": 22,
   "id": "1558ba82",
   "metadata": {},
   "outputs": [
    {
     "name": "stdout",
     "output_type": "stream",
     "text": [
      "5\n",
      "3\n",
      "4\n"
     ]
    }
   ],
   "source": [
    "d, e , f = sum_diff(4,1)\n",
    "print(d)\n",
    "print(e)\n",
    "print(f)"
   ]
  },
  {
   "cell_type": "code",
   "execution_count": 24,
   "id": "11251ef1",
   "metadata": {},
   "outputs": [
    {
     "data": {
      "text/plain": [
       "(5, 3, 4)"
      ]
     },
     "execution_count": 24,
     "metadata": {},
     "output_type": "execute_result"
    }
   ],
   "source": [
    "d = sum_diff(4,1)\n",
    "d"
   ]
  },
  {
   "cell_type": "code",
   "execution_count": null,
   "id": "cc257c4e",
   "metadata": {},
   "outputs": [],
   "source": []
  }
 ],
 "metadata": {
  "kernelspec": {
   "display_name": "Python 3 (ipykernel)",
   "language": "python",
   "name": "python3"
  },
  "language_info": {
   "codemirror_mode": {
    "name": "ipython",
    "version": 3
   },
   "file_extension": ".py",
   "mimetype": "text/x-python",
   "name": "python",
   "nbconvert_exporter": "python",
   "pygments_lexer": "ipython3",
   "version": "3.9.12"
  }
 },
 "nbformat": 4,
 "nbformat_minor": 5
}
