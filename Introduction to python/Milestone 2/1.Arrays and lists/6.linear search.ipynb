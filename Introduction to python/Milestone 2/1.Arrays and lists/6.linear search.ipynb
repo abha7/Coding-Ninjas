{
 "cells": [
  {
   "cell_type": "markdown",
   "id": "60236251",
   "metadata": {},
   "source": [
    "    Q.input a list from user using space seperated input,find the index of element you want to search in the list"
   ]
  },
  {
   "cell_type": "code",
   "execution_count": 3,
   "id": "450ca7dc",
   "metadata": {},
   "outputs": [
    {
     "name": "stdout",
     "output_type": "stream",
     "text": [
      "Enter the length of list\n",
      "5\n",
      "Enter your list\n",
      "1 2 3 4 5\n",
      "enter element you want to search in list\n",
      "5\n",
      "element found at index 4\n"
     ]
    }
   ],
   "source": [
    "print(\"Enter the length of list\")\n",
    "n=int(input())\n",
    "print(\"Enter your list\")\n",
    "li=[int(x) for x in input().split()]\n",
    "print(\"enter element you want to search in list\")\n",
    "ele=int(input())\n",
    "isfound=False\n",
    "for i in range(len(li)):\n",
    "    if li[i]==ele:\n",
    "        print(\"element found at index\",i)\n",
    "        isfound=True\n",
    "        break\n",
    "if isfound is False:\n",
    "        print(-1)\n"
   ]
  },
  {
   "cell_type": "markdown",
   "id": "29866efa",
   "metadata": {},
   "source": [
    "Linear search through functions\n"
   ]
  },
  {
   "cell_type": "code",
   "execution_count": 5,
   "id": "8634e613",
   "metadata": {
    "scrolled": true
   },
   "outputs": [
    {
     "name": "stdout",
     "output_type": "stream",
     "text": [
      "4\n"
     ]
    }
   ],
   "source": [
    "def linear_search(li,ele):\n",
    "    for i in range(len(li)):\n",
    "        if li[i]==ele:\n",
    "            return i\n",
    "    return -1\n",
    "\n",
    "li=[1,2,3,4,5,6]\n",
    "index=linear_search(li,5)\n",
    "print(index)"
   ]
  },
  {
   "cell_type": "code",
   "execution_count": 9,
   "id": "c10ddad6",
   "metadata": {},
   "outputs": [
    {
     "name": "stdout",
     "output_type": "stream",
     "text": [
      "Enter the length of list\n",
      "5\n",
      "Enter your list\n",
      "1 2 3 4 5\n",
      "enter element you want to search in list\n",
      "2\n",
      "index of element is 1\n"
     ]
    }
   ],
   "source": [
    "def linear_search(li,ele):\n",
    "    for i in range(len(li)):\n",
    "        if li[i]==ele:\n",
    "            return i\n",
    "    return -1\n",
    "\n",
    "\n",
    "print(\"Enter the length of list\")\n",
    "n=int(input())\n",
    "\n",
    "print(\"Enter your list\")\n",
    "li=[int(x) for x in input().split()]\n",
    "\n",
    "print(\"enter element you want to search in list\")\n",
    "ele=int(input())\n",
    "\n",
    "index=linear_search(li,ele)\n",
    "\n",
    "print(\"index of element is\",index)"
   ]
  },
  {
   "cell_type": "code",
   "execution_count": null,
   "id": "42630047",
   "metadata": {},
   "outputs": [],
   "source": []
  }
 ],
 "metadata": {
  "kernelspec": {
   "display_name": "Python 3 (ipykernel)",
   "language": "python",
   "name": "python3"
  },
  "language_info": {
   "codemirror_mode": {
    "name": "ipython",
    "version": 3
   },
   "file_extension": ".py",
   "mimetype": "text/x-python",
   "name": "python",
   "nbconvert_exporter": "python",
   "pygments_lexer": "ipython3",
   "version": "3.9.12"
  }
 },
 "nbformat": 4,
 "nbformat_minor": 5
}
