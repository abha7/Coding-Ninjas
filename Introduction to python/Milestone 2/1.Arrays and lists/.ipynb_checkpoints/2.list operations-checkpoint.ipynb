{
 "cells": [
  {
   "cell_type": "code",
   "execution_count": 1,
   "id": "9b873a23",
   "metadata": {},
   "outputs": [
    {
     "name": "stdout",
     "output_type": "stream",
     "text": [
      "[1, 8, 7, 2, 21, 15]\n"
     ]
    }
   ],
   "source": [
    "l1 = [1, 8, 7, 2, 21, 15]\n",
    "print(l1)\n"
   ]
  },
  {
   "cell_type": "code",
   "execution_count": 2,
   "id": "e0125561",
   "metadata": {},
   "outputs": [
    {
     "name": "stdout",
     "output_type": "stream",
     "text": [
      "[1, 2, 7, 8, 15, 21]\n"
     ]
    }
   ],
   "source": [
    "l1.sort() # sorts the list\n",
    "print(l1)\n"
   ]
  },
  {
   "cell_type": "code",
   "execution_count": 3,
   "id": "37ef66f1",
   "metadata": {},
   "outputs": [
    {
     "name": "stdout",
     "output_type": "stream",
     "text": [
      "[21, 15, 8, 7, 2, 1]\n"
     ]
    }
   ],
   "source": [
    "l1.reverse() # reverses the list\n",
    "print(l1)\n"
   ]
  },
  {
   "cell_type": "code",
   "execution_count": 5,
   "id": "178e4fec",
   "metadata": {},
   "outputs": [
    {
     "name": "stdout",
     "output_type": "stream",
     "text": [
      "[21, 15, 544, 8, 7, 2, 1, 45]\n"
     ]
    }
   ],
   "source": [
    "l1.insert(2, 544) # inserts 544 at index 2\n",
    "print(l1)\n"
   ]
  },
  {
   "cell_type": "code",
   "execution_count": 25,
   "id": "e3cd8021",
   "metadata": {},
   "outputs": [
    {
     "data": {
      "text/plain": [
       "21"
      ]
     },
     "execution_count": 25,
     "metadata": {},
     "output_type": "execute_result"
    }
   ],
   "source": [
    "l1 = [1, 8, 7, 2, 21, 15]\n",
    "l1.pop(4) # removes element at index 4\n",
    "\n"
   ]
  },
  {
   "cell_type": "code",
   "execution_count": 15,
   "id": "c46a0e80",
   "metadata": {},
   "outputs": [
    {
     "name": "stdout",
     "output_type": "stream",
     "text": [
      "[1, 8, 7, 2, 15]\n"
     ]
    }
   ],
   "source": [
    "print(l1)"
   ]
  },
  {
   "cell_type": "code",
   "execution_count": 16,
   "id": "d959cc90",
   "metadata": {},
   "outputs": [
    {
     "name": "stdout",
     "output_type": "stream",
     "text": [
      "[1, 8, 7, 2, 15]\n"
     ]
    }
   ],
   "source": [
    "l1 = [1, 8, 7, 2, 21, 15]\n",
    "l1.remove(21) # removes 21 from the list\n",
    "print(l1)\n",
    "#if item is present 2 times it will remove the item present at first (left to right)"
   ]
  },
  {
   "cell_type": "code",
   "execution_count": 21,
   "id": "d75242fb",
   "metadata": {},
   "outputs": [
    {
     "name": "stdout",
     "output_type": "stream",
     "text": [
      "[1, 8, 7, 2, 21, 15, 9, 10, 11]\n"
     ]
    }
   ],
   "source": [
    "l1 = [1, 8, 7, 2, 21, 15] #Extend()to add multiple elements in list and append to add a list of elements\n",
    "l1.extend([9,10,11])\n",
    "print(l1)\n",
    "\n"
   ]
  },
  {
   "cell_type": "code",
   "execution_count": 24,
   "id": "0415e709",
   "metadata": {},
   "outputs": [
    {
     "name": "stdout",
     "output_type": "stream",
     "text": [
      "[1, 8, 7, 2, 21, 15, [9, 10, 11]]\n"
     ]
    }
   ],
   "source": [
    "l1 = [1, 8, 7, 2, 21, 15] \n",
    "l1.append([9,10,11])\n",
    "print(l1)"
   ]
  },
  {
   "cell_type": "code",
   "execution_count": 23,
   "id": "344cc46d",
   "metadata": {},
   "outputs": [
    {
     "name": "stdout",
     "output_type": "stream",
     "text": [
      "[1, 8, 7, 2, 21, 15, 9, 10, 11, 45]\n"
     ]
    }
   ],
   "source": [
    "\n",
    "l1.append(45) # adds 45 at the end of the list \n",
    "print(l1)\n"
   ]
  },
  {
   "cell_type": "code",
   "execution_count": 22,
   "id": "5b918381",
   "metadata": {},
   "outputs": [
    {
     "name": "stdout",
     "output_type": "stream",
     "text": [
      "9\n"
     ]
    }
   ],
   "source": [
    "print(len(l1))\n"
   ]
  },
  {
   "cell_type": "code",
   "execution_count": 3,
   "id": "b5e409e0",
   "metadata": {},
   "outputs": [
    {
     "name": "stdout",
     "output_type": "stream",
     "text": [
      "1\n"
     ]
    }
   ],
   "source": [
    "l1 = [1, 8, 7, 2, 21, 15]\n",
    "print(min(l1))"
   ]
  },
  {
   "cell_type": "code",
   "execution_count": 4,
   "id": "1fe7223e",
   "metadata": {},
   "outputs": [
    {
     "name": "stdout",
     "output_type": "stream",
     "text": [
      "21\n"
     ]
    }
   ],
   "source": [
    "print(max(l1))"
   ]
  },
  {
   "cell_type": "code",
   "execution_count": 5,
   "id": "0ea6dc70",
   "metadata": {},
   "outputs": [
    {
     "name": "stdout",
     "output_type": "stream",
     "text": [
      "3\n"
     ]
    }
   ],
   "source": [
    "l1 = [1, 8, 8, 2, 21, 8]\n",
    "print(l1.count(8))"
   ]
  },
  {
   "cell_type": "code",
   "execution_count": null,
   "id": "90d34cc6",
   "metadata": {},
   "outputs": [],
   "source": []
  }
 ],
 "metadata": {
  "kernelspec": {
   "display_name": "Python 3 (ipykernel)",
   "language": "python",
   "name": "python3"
  },
  "language_info": {
   "codemirror_mode": {
    "name": "ipython",
    "version": 3
   },
   "file_extension": ".py",
   "mimetype": "text/x-python",
   "name": "python",
   "nbconvert_exporter": "python",
   "pygments_lexer": "ipython3",
   "version": "3.9.12"
  }
 },
 "nbformat": 4,
 "nbformat_minor": 5
}
