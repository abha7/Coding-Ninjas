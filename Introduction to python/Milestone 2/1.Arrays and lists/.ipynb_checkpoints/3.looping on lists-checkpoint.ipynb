{
 "cells": [
  {
   "cell_type": "code",
   "execution_count": 1,
   "id": "af67e367",
   "metadata": {},
   "outputs": [
    {
     "name": "stdout",
     "output_type": "stream",
     "text": [
      "Harry\n",
      "Tom\n",
      "Rohan\n",
      "Sam\n",
      "Divya\n",
      "45\n",
      "\n"
     ]
    }
   ],
   "source": [
    "li = [\"Harry\", \"Tom\", \"Rohan\", \"Sam\", \"Divya\", 45]\n",
    "for i in range(len(li)):\n",
    "    print(li[i])\n",
    "\n",
    "print()\n"
   ]
  },
  {
   "cell_type": "code",
   "execution_count": 2,
   "id": "4dd0f661",
   "metadata": {},
   "outputs": [
    {
     "name": "stdout",
     "output_type": "stream",
     "text": [
      "Rohan\n",
      "Sam\n",
      "Divya\n",
      "45\n",
      "\n"
     ]
    }
   ],
   "source": [
    "\n",
    "for i in range(2,len(li)):\n",
    "    print(li[i])\n",
    "print()\n",
    "\n"
   ]
  },
  {
   "cell_type": "code",
   "execution_count": 3,
   "id": "c85acf99",
   "metadata": {},
   "outputs": [
    {
     "name": "stdout",
     "output_type": "stream",
     "text": [
      "Harry\n",
      "Tom\n",
      "Rohan\n",
      "Sam\n",
      "Divya\n",
      "45\n",
      "\n"
     ]
    }
   ],
   "source": [
    "\n",
    "for ele in li:\n",
    "    print(ele)\n",
    "print()\n",
    "\n"
   ]
  },
  {
   "cell_type": "code",
   "execution_count": 4,
   "id": "a87ae730",
   "metadata": {},
   "outputs": [
    {
     "name": "stdout",
     "output_type": "stream",
     "text": [
      "Rohan\n",
      "Sam\n",
      "\n"
     ]
    }
   ],
   "source": [
    "\n",
    "for ele in li[2:4]:\n",
    "   print(ele)\n",
    "\n",
    "print()\n"
   ]
  },
  {
   "cell_type": "code",
   "execution_count": null,
   "id": "7e9879b4",
   "metadata": {},
   "outputs": [],
   "source": []
  }
 ],
 "metadata": {
  "kernelspec": {
   "display_name": "Python 3 (ipykernel)",
   "language": "python",
   "name": "python3"
  },
  "language_info": {
   "codemirror_mode": {
    "name": "ipython",
    "version": 3
   },
   "file_extension": ".py",
   "mimetype": "text/x-python",
   "name": "python",
   "nbconvert_exporter": "python",
   "pygments_lexer": "ipython3",
   "version": "3.9.12"
  }
 },
 "nbformat": 4,
 "nbformat_minor": 5
}
