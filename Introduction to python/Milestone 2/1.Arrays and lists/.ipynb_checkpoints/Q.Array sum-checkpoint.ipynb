{
 "cells": [
  {
   "cell_type": "markdown",
   "id": "1afd9bd1",
   "metadata": {},
   "source": [
    "Given an array of length N, you need to find and print the sum of all elements of the array.\n",
    "Input Format :\n",
    "Line 1 : An Integer N i.e. size of array\n",
    "Line 2 : N integers which are elements of the array, separated by spaces\n",
    "Output Format :\n",
    "Sum\n",
    "Constraints :\n",
    "1 <= N <= 10^6\n",
    "Sample Input :\n",
    "3\n",
    "9 8 9\n",
    "Sample Output :\n",
    "26"
   ]
  },
  {
   "cell_type": "code",
   "execution_count": 2,
   "id": "3a8d63d2",
   "metadata": {},
   "outputs": [
    {
     "name": "stdout",
     "output_type": "stream",
     "text": [
      "3\n",
      "9 8 9\n",
      "26\n"
     ]
    }
   ],
   "source": [
    "n=int(input())\n",
    "sum=0\n",
    "li=[int(x) for x in input().split()]\n",
    "for x in li:\n",
    "    sum=sum+x\n",
    "print(sum)\n"
   ]
  },
  {
   "cell_type": "code",
   "execution_count": null,
   "id": "89d96f83",
   "metadata": {},
   "outputs": [],
   "source": []
  }
 ],
 "metadata": {
  "kernelspec": {
   "display_name": "Python 3 (ipykernel)",
   "language": "python",
   "name": "python3"
  },
  "language_info": {
   "codemirror_mode": {
    "name": "ipython",
    "version": 3
   },
   "file_extension": ".py",
   "mimetype": "text/x-python",
   "name": "python",
   "nbconvert_exporter": "python",
   "pygments_lexer": "ipython3",
   "version": "3.9.12"
  }
 },
 "nbformat": 4,
 "nbformat_minor": 5
}
