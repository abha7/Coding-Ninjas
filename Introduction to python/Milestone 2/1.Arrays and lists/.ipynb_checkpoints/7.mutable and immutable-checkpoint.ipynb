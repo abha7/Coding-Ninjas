{
 "cells": [
  {
   "cell_type": "markdown",
   "id": "81cdbf0e",
   "metadata": {},
   "source": [
    "variables- immutable(new memory is created and references are changed eg- x=3,x=4 (diff ids))\n",
    "lists- mutable(references are same, 2 list can point to same reference)"
   ]
  },
  {
   "cell_type": "code",
   "execution_count": 1,
   "id": "1d5261dd",
   "metadata": {},
   "outputs": [
    {
     "name": "stdout",
     "output_type": "stream",
     "text": [
      "3\n"
     ]
    }
   ],
   "source": [
    "x=3\n",
    "a=3\n",
    "print(x)\n"
   ]
  },
  {
   "cell_type": "code",
   "execution_count": 3,
   "id": "9e098a03",
   "metadata": {},
   "outputs": [
    {
     "name": "stdout",
     "output_type": "stream",
     "text": [
      "2305082026352\n",
      "2305082026352\n"
     ]
    }
   ],
   "source": [
    "# id is same for both\n",
    "print(id(x))\n",
    "print(id(a))\n"
   ]
  },
  {
   "cell_type": "code",
   "execution_count": 4,
   "id": "a9140c92",
   "metadata": {},
   "outputs": [
    {
     "data": {
      "text/plain": [
       "2305082026384"
      ]
     },
     "execution_count": 4,
     "metadata": {},
     "output_type": "execute_result"
    }
   ],
   "source": [
    "\n",
    "a=4\n",
    "id(a)\n",
    "# different id\n"
   ]
  },
  {
   "cell_type": "code",
   "execution_count": 5,
   "id": "4e24f6c2",
   "metadata": {},
   "outputs": [
    {
     "name": "stdout",
     "output_type": "stream",
     "text": [
      "3\n",
      "4\n"
     ]
    }
   ],
   "source": [
    "print(x)\n",
    "print(a)\n"
   ]
  },
  {
   "cell_type": "code",
   "execution_count": 9,
   "id": "b4fe5fbc",
   "metadata": {},
   "outputs": [
    {
     "name": "stdout",
     "output_type": "stream",
     "text": [
      "[1, 2, 3, 4]\n",
      "[3, 4, 4]\n"
     ]
    }
   ],
   "source": [
    "# mutable\n",
    "li=[1,2,3,4]\n",
    "li2=li\n",
    "li2=[3,3,4]\n",
    "li2[1]=4\n",
    "print(li)\n",
    "print(li2)"
   ]
  },
  {
   "cell_type": "code",
   "execution_count": null,
   "id": "231fca43",
   "metadata": {},
   "outputs": [],
   "source": []
  }
 ],
 "metadata": {
  "kernelspec": {
   "display_name": "Python 3 (ipykernel)",
   "language": "python",
   "name": "python3"
  },
  "language_info": {
   "codemirror_mode": {
    "name": "ipython",
    "version": 3
   },
   "file_extension": ".py",
   "mimetype": "text/x-python",
   "name": "python",
   "nbconvert_exporter": "python",
   "pygments_lexer": "ipython3",
   "version": "3.9.12"
  }
 },
 "nbformat": 4,
 "nbformat_minor": 5
}
