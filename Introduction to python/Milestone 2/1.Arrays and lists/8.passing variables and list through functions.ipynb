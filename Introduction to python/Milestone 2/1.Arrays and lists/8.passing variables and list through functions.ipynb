{
 "cells": [
  {
   "cell_type": "markdown",
   "id": "df3e5be5",
   "metadata": {},
   "source": [
    "PASSING VARIABLE THROUGH FUNCTIONS"
   ]
  },
  {
   "cell_type": "code",
   "execution_count": 11,
   "id": "d15e4799",
   "metadata": {
    "scrolled": true
   },
   "outputs": [
    {
     "name": "stdout",
     "output_type": "stream",
     "text": [
      "2\n"
     ]
    }
   ],
   "source": [
    "def increment(a):\n",
    "    a = a + 2\n",
    "    return a\n",
    "a=2\n",
    "increment(a)\n",
    "print(a)"
   ]
  },
  {
   "cell_type": "code",
   "execution_count": 9,
   "id": "f7e88ffc",
   "metadata": {},
   "outputs": [
    {
     "name": "stdout",
     "output_type": "stream",
     "text": [
      "4\n"
     ]
    }
   ],
   "source": [
    "def increment(a):\n",
    "    a = a + 2\n",
    "    return a\n",
    "a=2\n",
    "a=increment(a) #VALUE OF THE INCREMENTED a IN THE FUNCTION IS NOW STPORED IN MAIN \n",
    "print(a)"
   ]
  },
  {
   "cell_type": "markdown",
   "id": "cd57cd9b",
   "metadata": {},
   "source": [
    "PASSING LIST THROUGH FUNCTIONS"
   ]
  },
  {
   "cell_type": "code",
   "execution_count": 12,
   "id": "efda2a6e",
   "metadata": {},
   "outputs": [
    {
     "name": "stdout",
     "output_type": "stream",
     "text": [
      "[2, 2, 3, 4]\n"
     ]
    }
   ],
   "source": [
    "def increment(li):\n",
    "    \n",
    "    li[0] = li[0] + 1\n",
    "    # li = [2,1,3,4]\n",
    "    return li\n",
    "\n",
    "li = [1,2,3,4]\n",
    "increment(li) # or store we can store the value in li=increment(li),gives same op\n",
    "print(li)\n"
   ]
  },
  {
   "cell_type": "code",
   "execution_count": 14,
   "id": "06d5d847",
   "metadata": {},
   "outputs": [
    {
     "name": "stdout",
     "output_type": "stream",
     "text": [
      "[2, 1, 3, 4]\n"
     ]
    }
   ],
   "source": [
    "\n",
    "def increment(li):\n",
    "    \n",
    "#     li[0] = li[0] + 1\n",
    "    li = [2,1,3,4]\n",
    "    return li\n",
    "\n",
    "li = [1,2,3,4]\n",
    "li=increment(li)\n",
    "print(li)\n",
    "\n",
    "# list are mutable\n"
   ]
  },
  {
   "cell_type": "code",
   "execution_count": null,
   "id": "fe527872",
   "metadata": {},
   "outputs": [],
   "source": []
  }
 ],
 "metadata": {
  "kernelspec": {
   "display_name": "Python 3 (ipykernel)",
   "language": "python",
   "name": "python3"
  },
  "language_info": {
   "codemirror_mode": {
    "name": "ipython",
    "version": 3
   },
   "file_extension": ".py",
   "mimetype": "text/x-python",
   "name": "python",
   "nbconvert_exporter": "python",
   "pygments_lexer": "ipython3",
   "version": "3.9.12"
  }
 },
 "nbformat": 4,
 "nbformat_minor": 5
}
