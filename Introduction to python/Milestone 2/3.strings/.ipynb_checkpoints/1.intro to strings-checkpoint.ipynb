{
 "cells": [
  {
   "cell_type": "code",
   "execution_count": 1,
   "id": "f2a01f7d",
   "metadata": {},
   "outputs": [
    {
     "name": "stdout",
     "output_type": "stream",
     "text": [
      "Abha\n"
     ]
    }
   ],
   "source": [
    "s=\"Abha\"\n",
    "print(s)\n"
   ]
  },
  {
   "cell_type": "code",
   "execution_count": 3,
   "id": "bbe64111",
   "metadata": {},
   "outputs": [
    {
     "data": {
      "text/plain": [
       "'Abha'"
      ]
     },
     "execution_count": 3,
     "metadata": {},
     "output_type": "execute_result"
    }
   ],
   "source": [
    "s='Abha'\n",
    "s"
   ]
  },
  {
   "cell_type": "code",
   "execution_count": 4,
   "id": "2c9c8a49",
   "metadata": {},
   "outputs": [
    {
     "name": "stdout",
     "output_type": "stream",
     "text": [
      "Abha\n"
     ]
    }
   ],
   "source": [
    "s='''Abha'''\n",
    "print(s)\n",
    "\n"
   ]
  },
  {
   "cell_type": "code",
   "execution_count": 5,
   "id": "5cd1194e",
   "metadata": {},
   "outputs": [
    {
     "name": "stdout",
     "output_type": "stream",
     "text": [
      "My\n",
      "Name Is Abha\n",
      "\n"
     ]
    }
   ],
   "source": [
    "s='''My\n",
    "Name Is Abha\n",
    "'''\n",
    "print(s)\n"
   ]
  },
  {
   "cell_type": "code",
   "execution_count": 6,
   "id": "d42e9710",
   "metadata": {},
   "outputs": [
    {
     "name": "stdout",
     "output_type": "stream",
     "text": [
      "A\n",
      "b\n",
      "a\n",
      "h\n"
     ]
    }
   ],
   "source": [
    "s=\"Abha\"\n",
    "print(s[0])\n",
    "print(s[1])\n",
    "# print(s[9])\n",
    "print(s[-1])\n",
    "print(s[-2])\n",
    "# print(s[-9])\n"
   ]
  },
  {
   "cell_type": "code",
   "execution_count": 7,
   "id": "5e319d97",
   "metadata": {},
   "outputs": [
    {
     "name": "stdout",
     "output_type": "stream",
     "text": [
      "M\n",
      "\n",
      "\n"
     ]
    }
   ],
   "source": [
    "s='''My\n",
    "Name Is Abha\n",
    "'''\n",
    "print(s[0])\n",
    "print(s[2])\n"
   ]
  },
  {
   "cell_type": "markdown",
   "id": "56f55b5a",
   "metadata": {},
   "source": [
    "how strings are stored"
   ]
  },
  {
   "cell_type": "code",
   "execution_count": 8,
   "id": "1844a6a8",
   "metadata": {},
   "outputs": [
    {
     "name": "stdout",
     "output_type": "stream",
     "text": [
      "2619362721904\n"
     ]
    }
   ],
   "source": [
    "s=\"Parikh\"\n",
    "print(id(s))\n"
   ]
  },
  {
   "cell_type": "code",
   "execution_count": 9,
   "id": "3572c764",
   "metadata": {},
   "outputs": [
    {
     "name": "stdout",
     "output_type": "stream",
     "text": [
      "2619362732656\n"
     ]
    }
   ],
   "source": [
    "a=\"Rohan\"\n",
    "print(id(a))\n"
   ]
  },
  {
   "cell_type": "code",
   "execution_count": 10,
   "id": "a33e578d",
   "metadata": {},
   "outputs": [
    {
     "name": "stdout",
     "output_type": "stream",
     "text": [
      "2619362721904\n"
     ]
    }
   ],
   "source": [
    "\n",
    "a=\"Parikh\"\n",
    "print(id(a))\n",
    "\n",
    "#same string =same references\n",
    "#cannot change the variable in a string \n",
    "#string is immutable just as a variable\n",
    "\n"
   ]
  },
  {
   "cell_type": "code",
   "execution_count": 11,
   "id": "b7ce63ee",
   "metadata": {},
   "outputs": [
    {
     "name": "stdout",
     "output_type": "stream",
     "text": [
      "P\n"
     ]
    },
    {
     "ename": "TypeError",
     "evalue": "'str' object does not support item assignment",
     "output_type": "error",
     "traceback": [
      "\u001b[1;31m---------------------------------------------------------------------------\u001b[0m",
      "\u001b[1;31mTypeError\u001b[0m                                 Traceback (most recent call last)",
      "Input \u001b[1;32mIn [11]\u001b[0m, in \u001b[0;36m<cell line: 3>\u001b[1;34m()\u001b[0m\n\u001b[0;32m      1\u001b[0m a\u001b[38;5;241m=\u001b[39m\u001b[38;5;124m\"\u001b[39m\u001b[38;5;124mParikh\u001b[39m\u001b[38;5;124m\"\u001b[39m\n\u001b[0;32m      2\u001b[0m \u001b[38;5;28mprint\u001b[39m(a[\u001b[38;5;241m0\u001b[39m])\n\u001b[1;32m----> 3\u001b[0m a[\u001b[38;5;241m0\u001b[39m]\u001b[38;5;241m=\u001b[39m\u001b[38;5;124m'\u001b[39m\u001b[38;5;124mR\u001b[39m\u001b[38;5;124m'\u001b[39m\n",
      "\u001b[1;31mTypeError\u001b[0m: 'str' object does not support item assignment"
     ]
    }
   ],
   "source": [
    "a=\"Parikh\"\n",
    "print(a[0])\n",
    "a[0]='R'"
   ]
  },
  {
   "cell_type": "code",
   "execution_count": null,
   "id": "18643cdf",
   "metadata": {},
   "outputs": [],
   "source": []
  }
 ],
 "metadata": {
  "kernelspec": {
   "display_name": "Python 3 (ipykernel)",
   "language": "python",
   "name": "python3"
  },
  "language_info": {
   "codemirror_mode": {
    "name": "ipython",
    "version": 3
   },
   "file_extension": ".py",
   "mimetype": "text/x-python",
   "name": "python",
   "nbconvert_exporter": "python",
   "pygments_lexer": "ipython3",
   "version": "3.9.12"
  }
 },
 "nbformat": 4,
 "nbformat_minor": 5
}
