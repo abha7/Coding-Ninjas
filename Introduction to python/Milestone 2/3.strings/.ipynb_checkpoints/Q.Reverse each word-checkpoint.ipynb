{
 "cells": [
  {
   "cell_type": "code",
   "execution_count": null,
   "id": "04606be7",
   "metadata": {},
   "outputs": [],
   "source": [
    "Reverse Each Word\n",
    "Send Feedback\n",
    "Aadil has been provided with a sentence in the form of a string as a function parameter. The task is to implement a function so as to print the sentence such that each word in the sentence is reversed.\n",
    "Example:\n",
    "Input Sentence: \"Hello, I am Aadil!\"\n",
    "The expected output will print, \",olleH I ma !lidaA\".\n",
    "Input Format:\n",
    "The first and only line of input contains a string without any leading and trailing spaces. The input string represents the sentence given to Aadil.\n",
    "Output Format:\n",
    "The only line of output prints the sentence(string) such that each word in the sentence is reversed. \n",
    "Constraints:\n",
    "0 <= N <= 10^6\n",
    "Where N is the length of the input string.\n",
    "\n",
    "Time Limit: 1 second\n",
    "Sample Input 1:\n",
    "Welcome to Coding Ninjas\n",
    "Sample Output 1:\n",
    "emocleW ot gnidoC sajniN\n",
    "Sample Input 2:\n",
    "Always indent your code\n",
    "Sample Output 2:\n",
    "syawlA tnedni ruoy edoc"
   ]
  },
  {
   "cell_type": "code",
   "execution_count": 1,
   "id": "d17b816f",
   "metadata": {},
   "outputs": [
    {
     "name": "stdout",
     "output_type": "stream",
     "text": [
      "Welcome to Coding Ninjas\n",
      "emocleW ot gnidoC sajniN "
     ]
    }
   ],
   "source": [
    "s = input()\n",
    "new = s.split()\n",
    "for i in range(len(new)):\n",
    "    sad = new[i][::-1]\n",
    "    print(sad, end=\" \")\n",
    "\n",
    "\n"
   ]
  },
  {
   "cell_type": "code",
   "execution_count": null,
   "id": "12e2f022",
   "metadata": {},
   "outputs": [],
   "source": []
  }
 ],
 "metadata": {
  "kernelspec": {
   "display_name": "Python 3 (ipykernel)",
   "language": "python",
   "name": "python3"
  },
  "language_info": {
   "codemirror_mode": {
    "name": "ipython",
    "version": 3
   },
   "file_extension": ".py",
   "mimetype": "text/x-python",
   "name": "python",
   "nbconvert_exporter": "python",
   "pygments_lexer": "ipython3",
   "version": "3.9.12"
  }
 },
 "nbformat": 4,
 "nbformat_minor": 5
}
