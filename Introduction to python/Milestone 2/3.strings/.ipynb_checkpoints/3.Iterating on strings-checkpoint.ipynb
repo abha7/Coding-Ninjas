{
 "cells": [
  {
   "cell_type": "code",
   "execution_count": 1,
   "id": "8a3b1833",
   "metadata": {},
   "outputs": [
    {
     "name": "stdout",
     "output_type": "stream",
     "text": [
      "3\n"
     ]
    }
   ],
   "source": [
    "str=\"Hello World\"\n",
    "count=0\n",
    "for letter in str:#on each character of string\n",
    "    if letter=='l':\n",
    "        count=count+1\n",
    "print(count)\n"
   ]
  },
  {
   "cell_type": "code",
   "execution_count": 2,
   "id": "80c9b696",
   "metadata": {},
   "outputs": [
    {
     "name": "stdout",
     "output_type": "stream",
     "text": [
      "3\n"
     ]
    }
   ],
   "source": [
    "str=\"Hello World\"\n",
    "count=0\n",
    "for i in range(len(str)):#index wise\n",
    "    if(str[i]=='l'):\n",
    "        count=count+1\n",
    "print(count)\n",
    "\n"
   ]
  },
  {
   "cell_type": "code",
   "execution_count": 3,
   "id": "37c01196",
   "metadata": {},
   "outputs": [
    {
     "name": "stdout",
     "output_type": "stream",
     "text": [
      "Yes it is a substring\n",
      "Not a substring\n",
      "Yes it is not a substring\n"
     ]
    }
   ],
   "source": [
    "\n",
    "\n",
    "#in and not in operations\n",
    "\n",
    "str=\"hello\"\n",
    "\n",
    "if 'hel' in str:\n",
    "    print(\"Yes it is a substring\")\n",
    "else:\n",
    "    print(\"Not a substring\")\n",
    "\n",
    "if 'heo' in str:\n",
    "    print(\"Yes it is a substring\")\n",
    "else:\n",
    "    print(\"Not a substring\")\n",
    "\n",
    "if 'heo' not in str:\n",
    "    print(\"Yes it is not a substring\")\n",
    "else:\n",
    "    print(\"Not a substring\")"
   ]
  },
  {
   "cell_type": "markdown",
   "id": "69083313",
   "metadata": {},
   "source": [
    "comparison operator on strings"
   ]
  },
  {
   "cell_type": "code",
   "execution_count": 4,
   "id": "b814526e",
   "metadata": {},
   "outputs": [
    {
     "name": "stdout",
     "output_type": "stream",
     "text": [
      "True\n"
     ]
    }
   ],
   "source": [
    "a=\"Parikh\" == \"Parikh\"\n",
    "print(a)\n"
   ]
  },
  {
   "cell_type": "code",
   "execution_count": 5,
   "id": "5f779e4b",
   "metadata": {},
   "outputs": [
    {
     "name": "stdout",
     "output_type": "stream",
     "text": [
      "True\n"
     ]
    }
   ],
   "source": [
    "a=\"Rarikh\" >= \"Parikh\"\n",
    "print(a)#is also true?how?\n",
    "# R have a greater ascii value than P\n"
   ]
  },
  {
   "cell_type": "code",
   "execution_count": 6,
   "id": "eed57ae6",
   "metadata": {},
   "outputs": [
    {
     "name": "stdout",
     "output_type": "stream",
     "text": [
      "True\n"
     ]
    }
   ],
   "source": [
    "\n",
    "a=\"Pbrikh\" >=\"Parikh\"\n",
    "print(a)#true\n"
   ]
  },
  {
   "cell_type": "code",
   "execution_count": 7,
   "id": "d067ab7d",
   "metadata": {},
   "outputs": [
    {
     "name": "stdout",
     "output_type": "stream",
     "text": [
      "True\n"
     ]
    }
   ],
   "source": [
    "\n",
    "a=\"parikh\" >= \"parikh\"\n",
    "print(a)#true\n"
   ]
  },
  {
   "cell_type": "code",
   "execution_count": 8,
   "id": "15fc8d4d",
   "metadata": {},
   "outputs": [
    {
     "name": "stdout",
     "output_type": "stream",
     "text": [
      "False\n"
     ]
    }
   ],
   "source": [
    "\n",
    "a=\"par\" >= \"parikh\"\n",
    "print(a)#false\n"
   ]
  },
  {
   "cell_type": "code",
   "execution_count": 9,
   "id": "fe6bcd34",
   "metadata": {},
   "outputs": [
    {
     "name": "stdout",
     "output_type": "stream",
     "text": [
      "True\n"
     ]
    }
   ],
   "source": [
    "\n",
    "a=\"parikh\" >= \"par\"\n",
    "print(a)#true\n",
    "\n"
   ]
  },
  {
   "cell_type": "code",
   "execution_count": 10,
   "id": "8ad69f38",
   "metadata": {},
   "outputs": [
    {
     "name": "stdout",
     "output_type": "stream",
     "text": [
      "True\n"
     ]
    }
   ],
   "source": [
    "a=\"parikh\" >= \"parikh\"\n",
    "print(a)#true\n"
   ]
  },
  {
   "cell_type": "code",
   "execution_count": 11,
   "id": "080c44d5",
   "metadata": {},
   "outputs": [
    {
     "name": "stdout",
     "output_type": "stream",
     "text": [
      "False\n"
     ]
    }
   ],
   "source": [
    "\n",
    "a=\"parikh\" > \"parikh\"\n",
    "print(a)#false\n"
   ]
  },
  {
   "cell_type": "code",
   "execution_count": 12,
   "id": "be5ea73d",
   "metadata": {},
   "outputs": [
    {
     "name": "stdout",
     "output_type": "stream",
     "text": [
      "False\n"
     ]
    }
   ],
   "source": [
    "\n",
    "a=\"parikh\" != \"parikh\"\n",
    "print(a)#false\n"
   ]
  },
  {
   "cell_type": "code",
   "execution_count": 13,
   "id": "b0e8e85b",
   "metadata": {},
   "outputs": [
    {
     "name": "stdout",
     "output_type": "stream",
     "text": [
      "True\n"
     ]
    }
   ],
   "source": [
    "\n",
    "a=\"par\" != \"parikh\"\n",
    "print(a)#true"
   ]
  },
  {
   "cell_type": "code",
   "execution_count": null,
   "id": "f1476c7a",
   "metadata": {},
   "outputs": [],
   "source": []
  }
 ],
 "metadata": {
  "kernelspec": {
   "display_name": "Python 3 (ipykernel)",
   "language": "python",
   "name": "python3"
  },
  "language_info": {
   "codemirror_mode": {
    "name": "ipython",
    "version": 3
   },
   "file_extension": ".py",
   "mimetype": "text/x-python",
   "name": "python",
   "nbconvert_exporter": "python",
   "pygments_lexer": "ipython3",
   "version": "3.9.12"
  }
 },
 "nbformat": 4,
 "nbformat_minor": 5
}
