{
 "cells": [
  {
   "cell_type": "code",
   "execution_count": 1,
   "id": "27209414",
   "metadata": {},
   "outputs": [
    {
     "name": "stdout",
     "output_type": "stream",
     "text": [
      "red\n"
     ]
    }
   ],
   "source": [
    "a=\"red\"\n",
    "print(a)\n"
   ]
  },
  {
   "cell_type": "code",
   "execution_count": 2,
   "id": "10c68bf0",
   "metadata": {},
   "outputs": [
    {
     "name": "stdout",
     "output_type": "stream",
     "text": [
      "redblue\n"
     ]
    }
   ],
   "source": [
    "a=a+ \"blue\"\n",
    "print(a)\n"
   ]
  },
  {
   "cell_type": "code",
   "execution_count": 3,
   "id": "f575bcd4",
   "metadata": {},
   "outputs": [
    {
     "name": "stdout",
     "output_type": "stream",
     "text": [
      "redbluebluegreen\n"
     ]
    }
   ],
   "source": [
    "a=a+\"blue\"+\"green\"\n",
    "print(a)\n"
   ]
  },
  {
   "cell_type": "code",
   "execution_count": 4,
   "id": "7c077cad",
   "metadata": {},
   "outputs": [
    {
     "name": "stdout",
     "output_type": "stream",
     "text": [
      "redbluebluegreenred\n",
      "2302937489040\n"
     ]
    }
   ],
   "source": [
    "a+=\"red\"\n",
    "print(a)\n",
    "print(id(a))\n"
   ]
  },
  {
   "cell_type": "code",
   "execution_count": 5,
   "id": "f42bca90",
   "metadata": {},
   "outputs": [
    {
     "name": "stdout",
     "output_type": "stream",
     "text": [
      "2302937489040\n"
     ]
    }
   ],
   "source": [
    "a+=\"yellow\"\n",
    "print(id(a))\n"
   ]
  },
  {
   "cell_type": "code",
   "execution_count": 6,
   "id": "a8f89435",
   "metadata": {},
   "outputs": [
    {
     "name": "stdout",
     "output_type": "stream",
     "text": [
      "blueblueblue\n"
     ]
    }
   ],
   "source": [
    "a=\"blue\"\n",
    "a=a*3\n",
    "print(a)\n"
   ]
  },
  {
   "cell_type": "code",
   "execution_count": 7,
   "id": "bb7bc1ab",
   "metadata": {},
   "outputs": [
    {
     "name": "stdout",
     "output_type": "stream",
     "text": [
      "blueblueblueblueblueblueblueblueblue\n"
     ]
    }
   ],
   "source": [
    "a=a*3\n",
    "print(a)\n"
   ]
  },
  {
   "cell_type": "code",
   "execution_count": 8,
   "id": "5c8c2513",
   "metadata": {},
   "outputs": [
    {
     "name": "stdout",
     "output_type": "stream",
     "text": [
      "blueblueblueblueblueblueblueblueblue\n"
     ]
    }
   ],
   "source": [
    "a=a*1\n",
    "print(a)\n"
   ]
  },
  {
   "cell_type": "code",
   "execution_count": 9,
   "id": "d81bbfd9",
   "metadata": {},
   "outputs": [
    {
     "name": "stdout",
     "output_type": "stream",
     "text": [
      "blueblueblueblueblueblueblueblueblueblueblueblueblueblueblueblueblueblue\n",
      "2302954246320\n"
     ]
    }
   ],
   "source": [
    "a=a*2\n",
    "print(a)\n",
    "print(id(a))\n"
   ]
  },
  {
   "cell_type": "code",
   "execution_count": 10,
   "id": "5ad1f186",
   "metadata": {},
   "outputs": [
    {
     "ename": "TypeError",
     "evalue": "can only concatenate str (not \"int\") to str",
     "output_type": "error",
     "traceback": [
      "\u001b[1;31m---------------------------------------------------------------------------\u001b[0m",
      "\u001b[1;31mTypeError\u001b[0m                                 Traceback (most recent call last)",
      "Input \u001b[1;32mIn [10]\u001b[0m, in \u001b[0;36m<cell line: 2>\u001b[1;34m()\u001b[0m\n\u001b[0;32m      1\u001b[0m a\u001b[38;5;241m=\u001b[39m\u001b[38;5;124m\"\u001b[39m\u001b[38;5;124mred\u001b[39m\u001b[38;5;124m\"\u001b[39m\n\u001b[1;32m----> 2\u001b[0m a\u001b[38;5;241m=\u001b[39m\u001b[43ma\u001b[49m\u001b[38;5;241;43m+\u001b[39;49m\u001b[38;5;241;43m3\u001b[39;49m\n\u001b[0;32m      3\u001b[0m a\u001b[38;5;241m=\u001b[39ma\u001b[38;5;241m+\u001b[39m\u001b[38;5;28mstr\u001b[39m(\u001b[38;5;241m3\u001b[39m)\n\u001b[0;32m      4\u001b[0m \u001b[38;5;28mprint\u001b[39m(a)\n",
      "\u001b[1;31mTypeError\u001b[0m: can only concatenate str (not \"int\") to str"
     ]
    }
   ],
   "source": [
    "a=\"red\"\n",
    "a=a+3\n",
    "a=a+str(3)\n",
    "print(a)\n"
   ]
  },
  {
   "cell_type": "code",
   "execution_count": 11,
   "id": "91601e24",
   "metadata": {},
   "outputs": [
    {
     "name": "stdout",
     "output_type": "stream",
     "text": [
      "abcd\n",
      "abcdef\n"
     ]
    }
   ],
   "source": [
    "\n",
    "\n",
    "#questions\n",
    "s = \"abcd\"\n",
    "b = s + \"ef\"\n",
    "print(s)\n",
    "\n",
    "s = \"abcd\"\n",
    "b = s + \"ef\"\n",
    "print(b)"
   ]
  },
  {
   "cell_type": "markdown",
   "id": "22f34fe3",
   "metadata": {},
   "source": [
    "slicing of strings"
   ]
  },
  {
   "cell_type": "code",
   "execution_count": 13,
   "id": "eaeb339b",
   "metadata": {},
   "outputs": [
    {
     "name": "stdout",
     "output_type": "stream",
     "text": [
      "ari\n",
      "ai\n",
      "\n",
      "h\n",
      "ar\n",
      "Pari\n",
      "arikh\n",
      "kir\n",
      "hkiraP\n",
      "hki\n",
      "hkiraP\n",
      "Parikh\n",
      "hi\n",
      "Parikh\n"
     ]
    }
   ],
   "source": [
    "s=\"Parikh\"\n",
    "print(s[1:4])\n",
    "print(s[1:4:2])\n",
    "print(s[6:4])\n",
    "print(s[-1])\n",
    "print(s[-5:-3])\n",
    "print(s[:4])\n",
    "print(s[1:9])\n",
    "print(s[4:1:-1])\n",
    "print(s[5::-1])\n",
    "print(s[:2:-1])\n",
    "print(s[5::-1])\n",
    "print(s)\n",
    "print(s[5:2:-2])\n",
    "print(s)"
   ]
  },
  {
   "cell_type": "code",
   "execution_count": null,
   "id": "08a19d18",
   "metadata": {},
   "outputs": [],
   "source": []
  }
 ],
 "metadata": {
  "kernelspec": {
   "display_name": "Python 3 (ipykernel)",
   "language": "python",
   "name": "python3"
  },
  "language_info": {
   "codemirror_mode": {
    "name": "ipython",
    "version": 3
   },
   "file_extension": ".py",
   "mimetype": "text/x-python",
   "name": "python",
   "nbconvert_exporter": "python",
   "pygments_lexer": "ipython3",
   "version": "3.9.12"
  }
 },
 "nbformat": 4,
 "nbformat_minor": 5
}
