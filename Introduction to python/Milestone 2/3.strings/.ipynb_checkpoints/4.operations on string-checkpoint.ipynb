{
 "cells": [
  {
   "cell_type": "code",
   "execution_count": 1,
   "id": "3a653831",
   "metadata": {},
   "outputs": [
    {
     "name": "stdout",
     "output_type": "stream",
     "text": [
      "['My', 'Name', 'Is', 'Parikh']\n"
     ]
    }
   ],
   "source": [
    "str=\"My Name Is Parikh\"\n",
    "li=str.split()#Return a list of strings\n",
    "print(li)\n",
    "#['My', 'Name', 'Is', 'Parikh']\n",
    "\n"
   ]
  },
  {
   "cell_type": "code",
   "execution_count": 2,
   "id": "3ae1b5af",
   "metadata": {},
   "outputs": [
    {
     "name": "stdout",
     "output_type": "stream",
     "text": [
      "['My', 'Name', ' Is', ' Parikh']\n"
     ]
    }
   ],
   "source": [
    "str=\"My,Name, Is, Parikh\"\n",
    "li=str.split(',')#delimiter\n",
    "print(li)\n",
    "#  ['My', 'Name', ' Is', ' Parikh']\n",
    "\n"
   ]
  },
  {
   "cell_type": "code",
   "execution_count": 3,
   "id": "eaa62636",
   "metadata": {},
   "outputs": [
    {
     "name": "stdout",
     "output_type": "stream",
     "text": [
      "['My', 'Name, Is, Parikh']\n"
     ]
    }
   ],
   "source": [
    "str=\"My,Name, Is, Parikh\"\n",
    "li=str.split(',',1)\n",
    "print(li)\n",
    "# ['My', 'Name, Is, Parikh']\n",
    "\n"
   ]
  },
  {
   "cell_type": "code",
   "execution_count": 4,
   "id": "0017fe47",
   "metadata": {},
   "outputs": [
    {
     "name": "stdout",
     "output_type": "stream",
     "text": [
      "['My', 'Name', ' Is, Parikh']\n"
     ]
    }
   ],
   "source": [
    "str=\"My,Name, Is, Parikh\"\n",
    "li=str.split(',',2)\n",
    "print(li)\n",
    "# ['My', 'Name', ' Is, Parikh']\n"
   ]
  },
  {
   "cell_type": "code",
   "execution_count": 5,
   "id": "9ea7bad8",
   "metadata": {},
   "outputs": [
    {
     "name": "stdout",
     "output_type": "stream",
     "text": [
      "My Name Is Rohan\n"
     ]
    }
   ],
   "source": [
    "str=\"My Name Is Parikh\"\n",
    "str=str.replace(\"Parikh\",\"Rohan\")\n",
    "print(str)\n",
    "# My Name Is Rohan\n"
   ]
  },
  {
   "cell_type": "code",
   "execution_count": 6,
   "id": "dbe12159",
   "metadata": {},
   "outputs": [
    {
     "name": "stdout",
     "output_type": "stream",
     "text": [
      "My Name Is Parikh\n"
     ]
    }
   ],
   "source": [
    "str=\"My Name Is Parikh\"\n",
    "str=str.replace(\"Which\",\"Rohan\")\n",
    "print(str)\n",
    "# My Name Is Parikh\n"
   ]
  },
  {
   "cell_type": "code",
   "execution_count": 7,
   "id": "37df3a79",
   "metadata": {},
   "outputs": [
    {
     "name": "stdout",
     "output_type": "stream",
     "text": [
      "My Name Is Rohan Rohan Parikh\n"
     ]
    }
   ],
   "source": [
    "\n",
    "str=\"My Name Is Parikh Parikh Parikh\"\n",
    "str=str.replace(\"Parikh\",\"Rohan\",2)\n",
    "print(str)\n",
    "# My Name Is Rohan Rohan Parikh\n"
   ]
  },
  {
   "cell_type": "code",
   "execution_count": 8,
   "id": "9ecfa7e5",
   "metadata": {},
   "outputs": [
    {
     "name": "stdout",
     "output_type": "stream",
     "text": [
      "3\n"
     ]
    }
   ],
   "source": [
    "\n",
    "str=\"My Name Is Parikh\"\n",
    "index=str.find(\"Na\")\n",
    "print(index)\n",
    "# 3\n",
    "\n"
   ]
  },
  {
   "cell_type": "code",
   "execution_count": 9,
   "id": "35baa140",
   "metadata": {},
   "outputs": [
    {
     "name": "stdout",
     "output_type": "stream",
     "text": [
      "-1\n"
     ]
    }
   ],
   "source": [
    "str=\"My Name Is Parikh\"\n",
    "index=str.find(\"Nae\")\n",
    "print(index)\n",
    "# -1\n"
   ]
  },
  {
   "cell_type": "code",
   "execution_count": 10,
   "id": "654868ed",
   "metadata": {},
   "outputs": [
    {
     "name": "stdout",
     "output_type": "stream",
     "text": [
      "11\n"
     ]
    }
   ],
   "source": [
    "str=\"My Name Is Parikh Parikh\"\n",
    "index=str.find(\"Par\")\n",
    "print(index)\n",
    "# 11\n"
   ]
  },
  {
   "cell_type": "code",
   "execution_count": 11,
   "id": "7e5fbcca",
   "metadata": {},
   "outputs": [
    {
     "name": "stdout",
     "output_type": "stream",
     "text": [
      "18\n"
     ]
    }
   ],
   "source": [
    "\n",
    "str=\"My Name Is Parikh Parikh\"\n",
    "index=str.find(\"Par\",16,21) #goes from 16th index till 20th\n",
    "print(index)\n",
    "#18\n"
   ]
  },
  {
   "cell_type": "code",
   "execution_count": 12,
   "id": "15492c50",
   "metadata": {},
   "outputs": [
    {
     "name": "stdout",
     "output_type": "stream",
     "text": [
      "my name is parikh\n"
     ]
    }
   ],
   "source": [
    "\n",
    "str=\"My Name Is Parikh\"\n",
    "str=str.lower()\n",
    "print(str)\n",
    "# my name is parikh\n"
   ]
  },
  {
   "cell_type": "code",
   "execution_count": 13,
   "id": "c81faa75",
   "metadata": {},
   "outputs": [
    {
     "name": "stdout",
     "output_type": "stream",
     "text": [
      "MY NAME IS PARIKH\n"
     ]
    }
   ],
   "source": [
    "\n",
    "str=str.upper()\n",
    "print(str)\n",
    "# MY NAME IS PARIKH\n"
   ]
  },
  {
   "cell_type": "code",
   "execution_count": 14,
   "id": "5d0be4a2",
   "metadata": {},
   "outputs": [
    {
     "name": "stdout",
     "output_type": "stream",
     "text": [
      "True\n"
     ]
    }
   ],
   "source": [
    "str=\"My Name Is Parikh\"\n",
    "ans=str.startswith(\"My Na\")\n",
    "print(ans)\n",
    "# True\n"
   ]
  },
  {
   "cell_type": "code",
   "execution_count": 15,
   "id": "3b6f3ca9",
   "metadata": {},
   "outputs": [
    {
     "name": "stdout",
     "output_type": "stream",
     "text": [
      "False\n"
     ]
    }
   ],
   "source": [
    "\n",
    "str=\"My Name Is Parikh\"\n",
    "ans=str.startswith(\"My Nae\")\n",
    "print(ans)\n",
    "# False\n"
   ]
  },
  {
   "cell_type": "code",
   "execution_count": 16,
   "id": "ec5be7c3",
   "metadata": {},
   "outputs": [
    {
     "name": "stdout",
     "output_type": "stream",
     "text": [
      "False\n"
     ]
    }
   ],
   "source": [
    "str=\"My Name Is Parikh\"\n",
    "ans=str.startswith(\"Pae\",11,25)\n",
    "print(ans)\n",
    "# False\n",
    "\n"
   ]
  },
  {
   "cell_type": "code",
   "execution_count": 17,
   "id": "785464d2",
   "metadata": {},
   "outputs": [
    {
     "name": "stdout",
     "output_type": "stream",
     "text": [
      "True\n"
     ]
    }
   ],
   "source": [
    "str=\"My Name Is Parikh\"\n",
    "ans=str.startswith(\"Pa\",11,25)\n",
    "print(ans)\n",
    "# true"
   ]
  },
  {
   "cell_type": "code",
   "execution_count": 2,
   "id": "e93dd47e",
   "metadata": {},
   "outputs": [
    {
     "name": "stdout",
     "output_type": "stream",
     "text": [
      "python\n"
     ]
    }
   ],
   "source": [
    "my_string= \"xxxpythonyyy\"\n",
    "my_string=my_string.strip()\n",
    "my_string=my_string.removeprefix(\"xxx\")\n",
    "my_string=my_string.removesuffix(\"yyy\")\n",
    "print(my_string)"
   ]
  },
  {
   "cell_type": "code",
   "execution_count": null,
   "id": "1e537335",
   "metadata": {},
   "outputs": [],
   "source": []
  }
 ],
 "metadata": {
  "kernelspec": {
   "display_name": "Python 3 (ipykernel)",
   "language": "python",
   "name": "python3"
  },
  "language_info": {
   "codemirror_mode": {
    "name": "ipython",
    "version": 3
   },
   "file_extension": ".py",
   "mimetype": "text/x-python",
   "name": "python",
   "nbconvert_exporter": "python",
   "pygments_lexer": "ipython3",
   "version": "3.9.12"
  }
 },
 "nbformat": 4,
 "nbformat_minor": 5
}
