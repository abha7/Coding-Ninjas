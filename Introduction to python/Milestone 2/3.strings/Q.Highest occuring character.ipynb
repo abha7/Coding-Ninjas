{
 "cells": [
  {
   "cell_type": "code",
   "execution_count": null,
   "id": "3d9515d2",
   "metadata": {},
   "outputs": [],
   "source": [
    "Highest Occuring Character\n",
    "Send Feedback\n",
    "For a given a string(str), find and return the highest occurring character.\n",
    "Example:\n",
    "Input String: \"abcdeapapqarr\"\n",
    "Expected Output: 'a'\n",
    "Since 'a' has appeared four times in the string which happens to be the highest frequency character, the answer would be 'a'.\n",
    "If there are two characters in the input string with the same frequency, return the character which comes first.\n",
    "Consider:\n",
    "Assume all the characters in the given string to be in lowercase always.\n",
    "Input Format:\n",
    "The first and only line of input contains a string without any leading and trailing spaces.\n",
    "Output Format:\n",
    "The only line of output prints the updated string. \n",
    "Note:\n",
    "You are not required to print anything explicitly. It has already been taken care of.\n",
    "Constraints:\n",
    "0 <= N <= 10^6\n",
    "Where N is the length of the input string.\n",
    "\n",
    "Time Limit: 1 second\n",
    "Sample Input 1:\n",
    "abdefgbabfba\n",
    "Sample Output 1:\n",
    "b\n",
    "Sample Input 2:\n",
    "xy\n",
    "Sample Output 2:\n",
    "x"
   ]
  },
  {
   "cell_type": "code",
   "execution_count": 1,
   "id": "cc5b5e53",
   "metadata": {},
   "outputs": [
    {
     "name": "stdout",
     "output_type": "stream",
     "text": [
      "abdefgbabfba\n",
      "b\n"
     ]
    }
   ],
   "source": [
    "def get_max_occuring_char(str1):\n",
    "  ASCII_SIZE = 256\n",
    "  ctr = [0] * ASCII_SIZE\n",
    "  max = -1\n",
    "  ch = ''\n",
    "  for i in str1:\n",
    "    ctr[ord(i)] += 1\n",
    "\n",
    "  for i in str1:\n",
    "    if max < ctr[ord(i)]:\n",
    "      max = ctr[ord(i)]\n",
    "      ch = i\n",
    "  return ch\n",
    "\n",
    "\n",
    "str1 = input()\n",
    "print(get_max_occuring_char(str1))\n"
   ]
  },
  {
   "cell_type": "code",
   "execution_count": null,
   "id": "ea44e461",
   "metadata": {},
   "outputs": [],
   "source": []
  }
 ],
 "metadata": {
  "kernelspec": {
   "display_name": "Python 3 (ipykernel)",
   "language": "python",
   "name": "python3"
  },
  "language_info": {
   "codemirror_mode": {
    "name": "ipython",
    "version": 3
   },
   "file_extension": ".py",
   "mimetype": "text/x-python",
   "name": "python",
   "nbconvert_exporter": "python",
   "pygments_lexer": "ipython3",
   "version": "3.9.12"
  }
 },
 "nbformat": 4,
 "nbformat_minor": 5
}
