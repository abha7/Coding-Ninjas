{
 "cells": [
  {
   "cell_type": "code",
   "execution_count": 1,
   "id": "6a6ed7ed",
   "metadata": {},
   "outputs": [
    {
     "name": "stdout",
     "output_type": "stream",
     "text": [
      "fdafdavxz\n"
     ]
    }
   ],
   "source": [
    "def replace(str,char1,char2):\n",
    "    \n",
    "    newStr=\"\"\n",
    "    for char in str:\n",
    "        if(char==char1):\n",
    "            newStr+=char2\n",
    "        else:\n",
    "            newStr+=char\n",
    "    return newStr\n",
    "    \n",
    "str=\"fsafsavxz\"\n",
    "str=replace(str,'s','d')\n",
    "print(str)"
   ]
  },
  {
   "cell_type": "code",
   "execution_count": null,
   "id": "adcc5bde",
   "metadata": {},
   "outputs": [],
   "source": []
  }
 ],
 "metadata": {
  "kernelspec": {
   "display_name": "Python 3 (ipykernel)",
   "language": "python",
   "name": "python3"
  },
  "language_info": {
   "codemirror_mode": {
    "name": "ipython",
    "version": 3
   },
   "file_extension": ".py",
   "mimetype": "text/x-python",
   "name": "python",
   "nbconvert_exporter": "python",
   "pygments_lexer": "ipython3",
   "version": "3.9.12"
  }
 },
 "nbformat": 4,
 "nbformat_minor": 5
}
