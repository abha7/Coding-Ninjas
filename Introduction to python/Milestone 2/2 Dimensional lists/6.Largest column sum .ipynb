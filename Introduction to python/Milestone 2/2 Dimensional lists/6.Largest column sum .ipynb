{
 "cells": [
  {
   "cell_type": "code",
   "execution_count": 2,
   "id": "2e00a4e8",
   "metadata": {},
   "outputs": [
    {
     "name": "stdout",
     "output_type": "stream",
     "text": [
      "21 3\n"
     ]
    }
   ],
   "source": [
    "def lar_Col_Sum(li):\n",
    "    n=len(li)\n",
    "    m=len(li[0])\n",
    "    max_sum=-1\n",
    "    max_col_Index=-1\n",
    "    for j in range(m):#going through each column\n",
    "        sum=0\n",
    "        for i in range(n):#gowing throw each row\n",
    "            sum+=li[i][j]\n",
    "        if sum>max_sum:\n",
    "            max_col_index=j\n",
    "            max_sum=sum\n",
    "    return max_sum,max_col_index\n",
    "        \n",
    "\n",
    "        \n",
    "li=[[1,2,3,4],[8,7,6,5],[9,10,11,12]]\n",
    "lar_sum,lar_col_index=lar_Col_Sum(li)\n",
    "print(lar_sum,lar_col_index)\n",
    "\n"
   ]
  },
  {
   "cell_type": "code",
   "execution_count": 3,
   "id": "0dd675fa",
   "metadata": {},
   "outputs": [
    {
     "name": "stdout",
     "output_type": "stream",
     "text": [
      "21 3\n"
     ]
    }
   ],
   "source": [
    "\n",
    "def lar_Col_Sum(li):\n",
    "    n=len(li)\n",
    "    m=len(li[0])\n",
    "    max_sum=-1\n",
    "    max_col_Index=-1\n",
    "    for j in range(m):#going through each column\n",
    "        sum=0\n",
    "        for ele in li:\n",
    "            sum+=ele[j]\n",
    "        if sum>max_sum:\n",
    "            max_col_index=j\n",
    "            max_sum=sum\n",
    "    return max_sum,max_col_index\n",
    "        \n",
    "li=[[1,2,3,4],[8,7,6,5],[9,10,11,12]]\n",
    "lar_sum,lar_col_index=lar_Col_Sum(li)\n",
    "print(lar_sum,lar_col_index)"
   ]
  },
  {
   "cell_type": "code",
   "execution_count": null,
   "id": "0bf9fe85",
   "metadata": {},
   "outputs": [],
   "source": []
  }
 ],
 "metadata": {
  "kernelspec": {
   "display_name": "Python 3 (ipykernel)",
   "language": "python",
   "name": "python3"
  },
  "language_info": {
   "codemirror_mode": {
    "name": "ipython",
    "version": 3
   },
   "file_extension": ".py",
   "mimetype": "text/x-python",
   "name": "python",
   "nbconvert_exporter": "python",
   "pygments_lexer": "ipython3",
   "version": "3.9.12"
  }
 },
 "nbformat": 4,
 "nbformat_minor": 5
}
