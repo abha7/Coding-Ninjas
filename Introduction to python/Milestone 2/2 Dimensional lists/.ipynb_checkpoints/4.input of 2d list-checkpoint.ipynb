{
 "cells": [
  {
   "cell_type": "code",
   "execution_count": 1,
   "id": "12bcc041",
   "metadata": {},
   "outputs": [
    {
     "name": "stdout",
     "output_type": "stream",
     "text": [
      "3 4\n",
      "1 2 3 4\n",
      "5 6 7 8\n",
      "9 10 11 12\n",
      "[[1, 2, 3, 4], [5, 6, 7, 8], [9, 10, 11, 12]]\n"
     ]
    }
   ],
   "source": [
    "str=input().split()\n",
    "n,m=int(str[0]),int(str[1])\n",
    "li=[[int (j) for j in input().split()]for i in range(n)]\n",
    "\n",
    "print(li)\n",
    "\n"
   ]
  },
  {
   "cell_type": "code",
   "execution_count": 2,
   "id": "3d0a5c01",
   "metadata": {},
   "outputs": [
    {
     "name": "stdout",
     "output_type": "stream",
     "text": [
      "3 \n",
      "1 2 3 4\n",
      "5 \n",
      "5 6\n",
      "[[1, 2, 3, 4], [5], [5, 6]]\n"
     ]
    }
   ],
   "source": [
    "\n",
    "#for jagged lists\n",
    "#no need for columns (m)\n",
    "\n",
    "n=int(input())\n",
    "li=[[int (j) for j in input().split()]for i in range(n)]\n",
    "\n",
    "print(li)"
   ]
  },
  {
   "cell_type": "markdown",
   "id": "071302b6",
   "metadata": {},
   "source": [
    "input of 2d list II"
   ]
  },
  {
   "cell_type": "code",
   "execution_count": 3,
   "id": "74b1f445",
   "metadata": {},
   "outputs": [
    {
     "name": "stdout",
     "output_type": "stream",
     "text": [
      "3 4\n",
      "1 2 3 4 5 6 7 8 9 10 11 12\n",
      "[[1, 2, 3, 4], [5, 6, 7, 8], [9, 10, 11, 12]]\n"
     ]
    }
   ],
   "source": [
    "str=input().split()\n",
    "n,m=int(str[0]),int(str[1])\n",
    "b=input().split()\n",
    "arr=[ [int(b[m*i+j])for j in range(m)]for i in range(n)]\n",
    "\n",
    "print(arr)\n",
    "\n",
    "\n"
   ]
  },
  {
   "cell_type": "code",
   "execution_count": 4,
   "id": "5a354600",
   "metadata": {},
   "outputs": [
    {
     "name": "stdout",
     "output_type": "stream",
     "text": [
      "3 4 1 2 3 4 5 6 7 8 9 10 11 12\n",
      "[[1, 2, 3, 4], [5, 6, 7, 8], [9, 10, 11, 12]]\n"
     ]
    }
   ],
   "source": [
    "str=input().split()\n",
    "n,m=int(str[0]),int(str[1])\n",
    "b=str[2:]\n",
    "arr=[ [int(b[m*i+j])for j in range(m)]for i in range(n)]\n",
    "\n",
    "print(arr)\n"
   ]
  },
  {
   "cell_type": "code",
   "execution_count": null,
   "id": "5d0fdfb7",
   "metadata": {},
   "outputs": [],
   "source": []
  }
 ],
 "metadata": {
  "kernelspec": {
   "display_name": "Python 3 (ipykernel)",
   "language": "python",
   "name": "python3"
  },
  "language_info": {
   "codemirror_mode": {
    "name": "ipython",
    "version": 3
   },
   "file_extension": ".py",
   "mimetype": "text/x-python",
   "name": "python",
   "nbconvert_exporter": "python",
   "pygments_lexer": "ipython3",
   "version": "3.9.12"
  }
 },
 "nbformat": 4,
 "nbformat_minor": 5
}
