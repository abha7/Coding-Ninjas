{
 "cells": [
  {
   "cell_type": "code",
   "execution_count": 1,
   "id": "817246fc",
   "metadata": {},
   "outputs": [
    {
     "name": "stdout",
     "output_type": "stream",
     "text": [
      "[1, 4, 9, 16]\n",
      "[1, 4, 9, 16]\n"
     ]
    }
   ],
   "source": [
    "li=[1,2,3,4]\n",
    "#normal code\n",
    "li_new=[]\n",
    "for ele in li:\n",
    "    li_new.append(ele**2)\n",
    "print(li_new)\n",
    "\n",
    "#listcomp\n",
    "li_new_c=[ele**2 for ele in li]\n",
    "print(li_new_c)\n",
    "\n"
   ]
  },
  {
   "cell_type": "code",
   "execution_count": 2,
   "id": "f97ea952",
   "metadata": {},
   "outputs": [
    {
     "name": "stdout",
     "output_type": "stream",
     "text": [
      "[4, 16]\n",
      "[4, 16]\n"
     ]
    }
   ],
   "source": [
    "\n",
    "\n",
    "#2 liscomp\n",
    "li_even_square=[ele**2  for ele in li if ele%2==0]\n",
    "print(li_even_square)\n",
    "\n",
    "#normal code\n",
    "li_even_square=[]\n",
    "for ele in li:\n",
    "    if ele %2==0:\n",
    "        li_even_square.append(ele**2)\n",
    "print(li_even_square)\n",
    "\n"
   ]
  },
  {
   "cell_type": "code",
   "execution_count": 3,
   "id": "33857c49",
   "metadata": {},
   "outputs": [
    {
     "name": "stdout",
     "output_type": "stream",
     "text": [
      "[6]\n",
      "[6]\n"
     ]
    }
   ],
   "source": [
    "\n",
    "#3 code\n",
    "li=[1,2,3,4,5,6,7,8,9]\n",
    "li_new=[]\n",
    "for ele in li:\n",
    "    if ele%2==0:\n",
    "        if ele %3==0:\n",
    "            li_new.append(ele)\n",
    "print(li_new)\n",
    "\n",
    "#listcomp\n",
    "li_new_2=[ele  for ele in li if ele%2==0 if ele%3==0]\n",
    "print(li_new_2)\n"
   ]
  },
  {
   "cell_type": "code",
   "execution_count": 4,
   "id": "755e83f2",
   "metadata": {},
   "outputs": [
    {
     "name": "stdout",
     "output_type": "stream",
     "text": [
      "[2, 4]\n",
      "[2, 4]\n"
     ]
    }
   ],
   "source": [
    "\n",
    "\n",
    "#4\n",
    "li_1=[1,2,3,4,5]\n",
    "li_2=[2,4,6,7]\n",
    "li_inter=[]\n",
    "for ele in li_1:\n",
    "    for ele_2 in li_2:\n",
    "        if ele==ele_2:\n",
    "            li_inter.append(ele)\n",
    "print(li_inter)\n",
    "\n",
    "li_1=[1,2,3,4,5]\n",
    "li_2=[2,4,6,7]\n",
    "li_inter=[ele for ele in li_1 for ele2 in li_2 if ele==ele2]\n",
    "print(li_inter)\n",
    "\n"
   ]
  },
  {
   "cell_type": "code",
   "execution_count": 5,
   "id": "f10ccc12",
   "metadata": {},
   "outputs": [
    {
     "name": "stdout",
     "output_type": "stream",
     "text": [
      "[1, 4, 3, 16, 5]\n",
      "[1, 4, 3, 16, 5]\n"
     ]
    }
   ],
   "source": [
    "\n",
    "#5\n",
    "li=[1,2,3,4,5]\n",
    "li_inter=[ ele**2  if ele%2==0 else ele for ele in li]\n",
    "print(li_inter)\n",
    "\n",
    "\n",
    "li_inter=[]\n",
    "for ele in li:\n",
    "    if ele%2==0:\n",
    "        li_inter.append(ele**2)\n",
    "    else:\n",
    "        li_inter.append(ele)\n",
    "print(li_inter)\n",
    "\n"
   ]
  },
  {
   "cell_type": "code",
   "execution_count": 6,
   "id": "a9d6cc48",
   "metadata": {},
   "outputs": [
    {
     "name": "stdout",
     "output_type": "stream",
     "text": [
      "['P', 'a', 'r', 'i', 'k', 'h']\n",
      "['P', 'a', 'r', 'i', 'k', 'h']\n"
     ]
    }
   ],
   "source": [
    "\n",
    "#6\n",
    "s=\"Parikh\"\n",
    "li=[ele for ele in s]\n",
    "print(li)\n",
    "\n",
    "li_n=[]\n",
    "for char in s:\n",
    "    li_n.append(char)\n",
    "print(li_n)\n",
    "\n"
   ]
  },
  {
   "cell_type": "code",
   "execution_count": 7,
   "id": "8a10d0f6",
   "metadata": {},
   "outputs": [
    {
     "name": "stdout",
     "output_type": "stream",
     "text": [
      "[['P', 'a', 'r', 'i', 'k', 'h'], ['R', 'o', 'h', 'a', 'n'], ['A', 'n', 'k', 'u', 's', 'h']]\n",
      "['P', 'a', 'r', 'i', 'k', 'h', 'R', 'o', 'h', 'a', 'n', 'A', 'n', 'k', 'u', 's', 'h']\n"
     ]
    }
   ],
   "source": [
    "\n",
    "#7\n",
    "li=[\"Parikh\",\"Rohan\",\"Ankush\"]\n",
    "l1_2d=[[s for s in ele]for ele in li]\n",
    "print(l1_2d)\n",
    "\n",
    "li_n=[]\n",
    "li_nn=[]\n",
    "for ele in li:\n",
    "    for s in ele:\n",
    "        li_n.append(s)\n",
    "print(li_n)"
   ]
  },
  {
   "cell_type": "code",
   "execution_count": null,
   "id": "6baaa876",
   "metadata": {},
   "outputs": [],
   "source": []
  }
 ],
 "metadata": {
  "kernelspec": {
   "display_name": "Python 3 (ipykernel)",
   "language": "python",
   "name": "python3"
  },
  "language_info": {
   "codemirror_mode": {
    "name": "ipython",
    "version": 3
   },
   "file_extension": ".py",
   "mimetype": "text/x-python",
   "name": "python",
   "nbconvert_exporter": "python",
   "pygments_lexer": "ipython3",
   "version": "3.9.12"
  }
 },
 "nbformat": 4,
 "nbformat_minor": 5
}
