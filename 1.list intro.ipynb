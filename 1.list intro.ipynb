{
 "cells": [
  {
   "cell_type": "code",
   "execution_count": 1,
   "id": "0b31560e",
   "metadata": {},
   "outputs": [],
   "source": [
    "# Create a list using []\n",
    "#stores a set of values of any data type(heterogeneous)\n",
    "#arrays= homogeneous, same data type\n",
    "a = [1, 2 , 4, 56, 6]\n"
   ]
  },
  {
   "cell_type": "code",
   "execution_count": 2,
   "id": "a3b3b45f",
   "metadata": {},
   "outputs": [
    {
     "name": "stdout",
     "output_type": "stream",
     "text": [
      "[1, 2, 4, 56, 6]\n"
     ]
    }
   ],
   "source": [
    "# Print the list using print() function\n",
    "print(a)\n"
   ]
  },
  {
   "cell_type": "code",
   "execution_count": 3,
   "id": "fb1e4890",
   "metadata": {},
   "outputs": [
    {
     "name": "stdout",
     "output_type": "stream",
     "text": [
      "4\n"
     ]
    }
   ],
   "source": [
    "# Access using index using a[0], a[1], a[2]\n",
    "print(a[2])\n"
   ]
  },
  {
   "cell_type": "code",
   "execution_count": 4,
   "id": "515b7f3c",
   "metadata": {},
   "outputs": [
    {
     "name": "stdout",
     "output_type": "stream",
     "text": [
      "[98, 2, 4, 56, 6]\n"
     ]
    }
   ],
   "source": [
    "# Change the value of list using\n",
    "a[0] = 98\n",
    "print(a)\n"
   ]
  },
  {
   "cell_type": "code",
   "execution_count": 5,
   "id": "50e4c0aa",
   "metadata": {},
   "outputs": [
    {
     "name": "stdout",
     "output_type": "stream",
     "text": [
      "[45, 'Harry', False, 6.9]\n"
     ]
    }
   ],
   "source": [
    "# We can create a list with items of different types\n",
    "c = [45, \"Harry\", False, 6.9]\n",
    "print(c)\n"
   ]
  },
  {
   "cell_type": "code",
   "execution_count": 6,
   "id": "d2410707",
   "metadata": {},
   "outputs": [],
   "source": [
    "list1 = [] #Empty list\n",
    "\n",
    "list4 = [\"One\", [8, 4, 6], ['Three']] #Nested List"
   ]
  },
  {
   "cell_type": "code",
   "execution_count": 7,
   "id": "9f4aa9f0",
   "metadata": {},
   "outputs": [
    {
     "name": "stdout",
     "output_type": "stream",
     "text": [
      "['Harry', 'Tom', 'Rohan', 'Sam']\n",
      "['Rohan', 'Sam', 'Divya', 45]\n",
      "['Sam', 'Divya', 45]\n"
     ]
    }
   ],
   "source": [
    "# List slicing\n",
    "friends = [\"Harry\", \"Tom\", \"Rohan\", \"Sam\", \"Divya\", 45]\n",
    "print(friends[0:4])\n",
    "print(friends[-4:])\n",
    "print(friends[3:])\n"
   ]
  },
  {
   "cell_type": "code",
   "execution_count": null,
   "id": "b0b2b563",
   "metadata": {},
   "outputs": [],
   "source": []
  }
 ],
 "metadata": {
  "kernelspec": {
   "display_name": "Python 3 (ipykernel)",
   "language": "python",
   "name": "python3"
  },
  "language_info": {
   "codemirror_mode": {
    "name": "ipython",
    "version": 3
   },
   "file_extension": ".py",
   "mimetype": "text/x-python",
   "name": "python",
   "nbconvert_exporter": "python",
   "pygments_lexer": "ipython3",
   "version": "3.9.12"
  }
 },
 "nbformat": 4,
 "nbformat_minor": 5
}
